{
 "cells": [
  {
   "cell_type": "code",
   "execution_count": 4,
   "id": "ad60f9ae-dba6-4562-ba98-9614d51e1135",
   "metadata": {},
   "outputs": [
    {
     "name": "stdout",
     "output_type": "stream",
     "text": [
      ":: loading settings :: url = jar:file:/Users/wgirten/Development/projects/netrig_analytics/blog_articles/delta_sharing/getting_started_nodejs/blogvenv/lib/python3.10/site-packages/pyspark/jars/ivy-2.5.0.jar!/org/apache/ivy/core/settings/ivysettings.xml\n"
     ]
    },
    {
     "name": "stderr",
     "output_type": "stream",
     "text": [
      "Ivy Default Cache set to: /Users/wgirten/.ivy2/cache\n",
      "The jars for the packages stored in: /Users/wgirten/.ivy2/jars\n",
      "io.delta#delta-core_2.12 added as a dependency\n",
      ":: resolving dependencies :: org.apache.spark#spark-submit-parent-3b278e8b-4080-44be-af8f-8d26a9647aa5;1.0\n",
      "\tconfs: [default]\n",
      "\tfound io.delta#delta-core_2.12;2.1.1 in central\n",
      "\tfound io.delta#delta-storage;2.1.1 in central\n",
      "\tfound org.antlr#antlr4-runtime;4.8 in central\n",
      "\tfound org.codehaus.jackson#jackson-core-asl;1.9.13 in central\n",
      "downloading https://repo1.maven.org/maven2/io/delta/delta-core_2.12/2.1.1/delta-core_2.12-2.1.1.jar ...\n",
      "\t[SUCCESSFUL ] io.delta#delta-core_2.12;2.1.1!delta-core_2.12.jar (285ms)\n",
      "downloading https://repo1.maven.org/maven2/io/delta/delta-storage/2.1.1/delta-storage-2.1.1.jar ...\n",
      "\t[SUCCESSFUL ] io.delta#delta-storage;2.1.1!delta-storage.jar (80ms)\n",
      ":: resolution report :: resolve 1114ms :: artifacts dl 376ms\n",
      "\t:: modules in use:\n",
      "\tio.delta#delta-core_2.12;2.1.1 from central in [default]\n",
      "\tio.delta#delta-storage;2.1.1 from central in [default]\n",
      "\torg.antlr#antlr4-runtime;4.8 from central in [default]\n",
      "\torg.codehaus.jackson#jackson-core-asl;1.9.13 from central in [default]\n",
      "\t---------------------------------------------------------------------\n",
      "\t|                  |            modules            ||   artifacts   |\n",
      "\t|       conf       | number| search|dwnlded|evicted|| number|dwnlded|\n",
      "\t---------------------------------------------------------------------\n",
      "\t|      default     |   4   |   2   |   2   |   0   ||   4   |   2   |\n",
      "\t---------------------------------------------------------------------\n",
      ":: retrieving :: org.apache.spark#spark-submit-parent-3b278e8b-4080-44be-af8f-8d26a9647aa5\n",
      "\tconfs: [default]\n",
      "\t2 artifacts copied, 2 already retrieved (3206kB/16ms)\n"
     ]
    },
    {
     "name": "stdout",
     "output_type": "stream",
     "text": [
      "22/11/08 22:35:18 WARN NativeCodeLoader: Unable to load native-hadoop library for your platform... using builtin-java classes where applicable\n"
     ]
    },
    {
     "name": "stderr",
     "output_type": "stream",
     "text": [
      "Setting default log level to \"WARN\".\n",
      "To adjust logging level use sc.setLogLevel(newLevel). For SparkR, use setLogLevel(newLevel).\n"
     ]
    }
   ],
   "source": [
    "from delta import *\n",
    "from pyspark.sql import SparkSession\n",
    "\n",
    "builder = SparkSession.builder.appName(\"tweet-analysis\") \\\n",
    "    .config(\"spark.sql.extensions\", \"io.delta.sql.DeltaSparkSessionExtension\") \\\n",
    "    .config(\"spark.sql.catalog.spark_catalog\", \"org.apache.spark.sql.delta.catalog.DeltaCatalog\")\n",
    "\n",
    "spark = configure_spark_with_delta_pip(builder).getOrCreate()\n"
   ]
  },
  {
   "cell_type": "code",
   "execution_count": 8,
   "id": "6026cd10-2072-43ee-9234-682916486c45",
   "metadata": {},
   "outputs": [],
   "source": [
    "recent_tweets_json = 'tweets_data.json'"
   ]
  },
  {
   "cell_type": "code",
   "execution_count": 23,
   "id": "942daad3-a48b-456c-87e3-754531076f4e",
   "metadata": {},
   "outputs": [],
   "source": [
    "import pyspark.sql.functions as F\n",
    "from IPython.display import display\n",
    "\n",
    "df = spark.read.option(\"multiline\",\"true\").json(recent_tweets_json).select(F.explode(\"data\").alias(\"tweet\"))"
   ]
  },
  {
   "cell_type": "code",
   "execution_count": 29,
   "id": "d22d09ec-d475-470c-a607-a864d7dda155",
   "metadata": {},
   "outputs": [
    {
     "data": {
      "text/plain": [
       "DataFrame[id: string, text: string]"
      ]
     },
     "metadata": {},
     "output_type": "display_data"
    }
   ],
   "source": [
    "display(df.select(\"tweet.id\", \"tweet.text\"))"
   ]
  },
  {
   "cell_type": "code",
   "execution_count": 30,
   "id": "4bc52d2e-6528-49ad-968e-1673e5e4b367",
   "metadata": {},
   "outputs": [
    {
     "name": "stdout",
     "output_type": "stream",
     "text": [
      "+-------------------+--------------------+\n",
      "|                 id|                text|\n",
      "+-------------------+--------------------+\n",
      "|1590178598924996608|RT @hotsmoovy: Ch...|\n",
      "|1590178326781767682|@cuddly_cupcake u...|\n",
      "|1590178228714754051|RT @catturd2: Thi...|\n",
      "|1590178194593759232|Nothing new by a ...|\n",
      "|1590178023760068608|RT @DaveMilbo: Fo...|\n",
      "|1590177911684108288|@PA_Anglade @Depu...|\n",
      "|1590177866842796034|@JimCarrey Thanks...|\n",
      "|1590177853911752704|@JimCarrey $ 8 do...|\n",
      "|1590177843786706945|RT @catturd2: Thi...|\n",
      "|1590177838984224770|RT @catturd2: Thi...|\n",
      "|1590177816444039169|RT @catturd2: Thi...|\n",
      "|1590177745652224001|RT @hotsmoovy: Ch...|\n",
      "|1590177604220645376|@Renaissance @Emm...|\n",
      "|1590177348430991360|@MNateShyamalan 8...|\n",
      "|1590177155434319872|@TheRealWoodsman ...|\n",
      "|1590177121212993537|@Elisabeth_Borne ...|\n",
      "|1590177102862876672|If yall have aver...|\n",
      "|1590177058415861760|RT @AJEnglish: Ni...|\n",
      "|1590176956989210625|RT @shinimomi: mu...|\n",
      "|1590176929927557122|RT @catturd2: Thi...|\n",
      "+-------------------+--------------------+\n",
      "only showing top 20 rows\n",
      "\n",
      "22/11/08 22:54:56 WARN HeartbeatReceiver: Removing executor driver with no recent heartbeats: 226992 ms exceeds timeout 120000 ms\n",
      "22/11/08 22:54:56 WARN SparkContext: Killing executors is not supported by current scheduler.\n"
     ]
    }
   ],
   "source": [
    "df.select(\"tweet.id\", \"tweet.text\").show()"
   ]
  },
  {
   "cell_type": "code",
   "execution_count": null,
   "id": "d3ffe756-76de-482d-b671-7801745f173d",
   "metadata": {},
   "outputs": [],
   "source": []
  }
 ],
 "metadata": {
  "kernelspec": {
   "display_name": "Python 3 (ipykernel)",
   "language": "python",
   "name": "python3"
  },
  "language_info": {
   "codemirror_mode": {
    "name": "ipython",
    "version": 3
   },
   "file_extension": ".py",
   "mimetype": "text/x-python",
   "name": "python",
   "nbconvert_exporter": "python",
   "pygments_lexer": "ipython3",
   "version": "3.10.8"
  }
 },
 "nbformat": 4,
 "nbformat_minor": 5
}
